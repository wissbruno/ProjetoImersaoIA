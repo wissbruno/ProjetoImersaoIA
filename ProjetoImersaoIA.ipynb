{
  "nbformat": 4,
  "nbformat_minor": 0,
  "metadata": {
    "colab": {
      "provenance": [],
      "authorship_tag": "ABX9TyNq6FEchYmC2pQ7atasNTUl",
      "include_colab_link": true
    },
    "kernelspec": {
      "name": "python3",
      "display_name": "Python 3"
    },
    "language_info": {
      "name": "python"
    }
  },
  "cells": [
    {
      "cell_type": "markdown",
      "metadata": {
        "id": "view-in-github",
        "colab_type": "text"
      },
      "source": [
        "<a href=\"https://colab.research.google.com/github/wissbruno/ProjetoImersaoIA/blob/main/ProjetoImersaoIA.ipynb\" target=\"_parent\"><img src=\"https://colab.research.google.com/assets/colab-badge.svg\" alt=\"Open In Colab\"/></a>"
      ]
    },
    {
      "cell_type": "code",
      "source": [
        "#AUTOR: BRUNO URCCELLA WISS\n",
        "\n",
        "!pip install -q -U google-generativeai"
      ],
      "metadata": {
        "id": "yDShmFUooxbF"
      },
      "execution_count": 90,
      "outputs": []
    },
    {
      "cell_type": "code",
      "source": [
        "import google.generativeai as genai\n",
        "GOOGLE_API_KEY = \"API_KEY\"\n",
        "genai.configure(api_key=GOOGLE_API_KEY)\n",
        "\n",
        "generation_config = {\n",
        "    \"candidate_count\": 1,\n",
        "    \"temperature\": 0.5\n",
        "}\n",
        "\n",
        "safety_settings = {\n",
        "    \"HARASSMENT\": \"BLOCK_NONE\",\n",
        "    \"HATE\": \"BLOCK_NONE\",\n",
        "    \"SEXUAL\": \"BLOCK_NONE\",\n",
        "    \"DANGEROUS\": \"BLOCK_NONE\"\n",
        "}\n",
        "\n",
        "model = genai.GenerativeModel(model_name=\"gemini-1.0-pro\",\n",
        "                               generation_config=generation_config,\n",
        "                               safety_settings=safety_settings)\n",
        "\n",
        "def get_hospitals(cep, cidade, pais):\n",
        "    prompt = f\"Estou procurando hospitais próximos ao CEP {cep} na cidade de {cidade}, {pais} que atendem casos de dengue. Para cada hospital, inclua as seguintes informações:\\n\\n* Nome do hospital\\n* Endereço do hospital\\n* Número de telefone do hospital\\n* Link do Google Maps para o endereço do hospital\\n* Se o hospital está normalmente cheio ou não\\n\\nRetorne os resultados em uma lista numerada.\"\n",
        "    response = model.generate_content(prompt)\n",
        "    hospitais = response.text.split(\"\\n\")\n",
        "    return hospitais\n",
        "\n",
        "# Exemplo de uso\n",
        "cep = input(\"Digite o CEP: \")\n",
        "cidade = input(\"Digite a cidade: \")\n",
        "pais = input(\"Digite o país: \")\n",
        "\n",
        "hospitais = get_hospitals(cep, cidade, pais)\n",
        "\n",
        "print(\"Lista de hospitais próximos que atendem casos de dengue:\")\n",
        "for hospital in hospitais:\n",
        "    print(hospital)"
      ],
      "metadata": {
        "colab": {
          "base_uri": "https://localhost:8080/",
          "height": 607
        },
        "id": "HtwDvQB29Mwd",
        "outputId": "3e558938-d6a0-4b36-ee97-d16a5f152b9b"
      },
      "execution_count": 92,
      "outputs": [
        {
          "name": "stdout",
          "output_type": "stream",
          "text": [
            "Digite o CEP: 04337-000\n",
            "Digite a cidade: SP\n",
            "Digite o país: Brasil\n"
          ]
        },
        {
          "output_type": "stream",
          "name": "stderr",
          "text": [
            "2024-05-09 21:01:46.005 200 POST /v1beta/models/gemini-1.0-pro:generateContent?%24alt=json%3Benum-encoding%3Dint (127.0.0.1) 7643.08ms\n"
          ]
        },
        {
          "output_type": "stream",
          "name": "stdout",
          "text": [
            "Lista de hospitais próximos que atendem casos de dengue:\n",
            "**1. Hospital Municipal Dr. Arthur Ribeiro de Saboya**\n",
            "* Endereço: Rua Nova Jerusalém, 151 - Jd. Santa Terezinha\n",
            "* Telefone: (11) 2090-8900\n",
            "* Google Maps: https://goo.gl/maps/928Y7Zf4w4g3w39g8\n",
            "* Lotação: Normalmente cheio\n",
            "\n",
            "**2. Hospital Municipal Dr. Moysés Deutsch**\n",
            "* Endereço: Rua Voluntários da Pátria, 3100 - Vila Mariana\n",
            "* Telefone: (11) 5080-6000\n",
            "* Google Maps: https://goo.gl/maps/928Y7Zf4w4g3w39g8\n",
            "* Lotação: Normalmente cheio\n",
            "\n",
            "**3. Hospital Municipal Dr. Ignácio Proença de Gouvêa**\n",
            "* Endereço: Rua Dr. Ignácio Proença de Gouvêa, 117 - Vila Mariana\n",
            "* Telefone: (11) 5579-9000\n",
            "* Google Maps: https://goo.gl/maps/928Y7Zf4w4g3w39g8\n",
            "* Lotação: Normalmente cheio\n",
            "\n",
            "**4. Hospital e Maternidade São Luiz Itaim**\n",
            "* Endereço: Rua Joaquim Floriano, 200 - Itaim Bibi\n",
            "* Telefone: (11) 3045-1000\n",
            "* Google Maps: https://goo.gl/maps/928Y7Zf4w4g3w39g8\n",
            "* Lotação: Normalmente não cheio\n",
            "\n",
            "**5. Hospital e Maternidade Santa Joana**\n",
            "* Endereço: Rua Domingos de Morais, 2062 - Vila Mariana\n",
            "* Telefone: (11) 5080-6000\n",
            "* Google Maps: https://goo.gl/maps/928Y7Zf4w4g3w39g8\n",
            "* Lotação: Normalmente não cheio\n"
          ]
        }
      ]
    }
  ]
}